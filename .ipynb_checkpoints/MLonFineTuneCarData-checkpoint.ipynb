{
 "cells": [
  {
   "cell_type": "code",
   "execution_count": 1,
   "metadata": {},
   "outputs": [],
   "source": [
    "import pandas as pd\n",
    "import numpy as np\n",
    "\n",
    "pd.set_option('display.float_format', lambda x: '%.2f' % x)\n",
    "\n",
    "mlcd = pd.read_csv('FineTuneCarData.csv')"
   ]
  },
  {
   "cell_type": "code",
   "execution_count": 2,
   "metadata": {},
   "outputs": [
    {
     "data": {
      "text/html": [
       "<div>\n",
       "<style scoped>\n",
       "    .dataframe tbody tr th:only-of-type {\n",
       "        vertical-align: middle;\n",
       "    }\n",
       "\n",
       "    .dataframe tbody tr th {\n",
       "        vertical-align: top;\n",
       "    }\n",
       "\n",
       "    .dataframe thead th {\n",
       "        text-align: right;\n",
       "    }\n",
       "</style>\n",
       "<table border=\"1\" class=\"dataframe\">\n",
       "  <thead>\n",
       "    <tr style=\"text-align: right;\">\n",
       "      <th></th>\n",
       "      <th>Unnamed: 0</th>\n",
       "      <th>name</th>\n",
       "      <th>brand</th>\n",
       "      <th>model</th>\n",
       "      <th>year</th>\n",
       "      <th>age</th>\n",
       "      <th>km_driven</th>\n",
       "      <th>torque_Nm</th>\n",
       "      <th>max_power_bhp</th>\n",
       "      <th>mileage_kmpl</th>\n",
       "      <th>selling_price</th>\n",
       "      <th>seller_type</th>\n",
       "      <th>owner</th>\n",
       "      <th>seats</th>\n",
       "      <th>engine</th>\n",
       "      <th>transmission</th>\n",
       "      <th>fuel</th>\n",
       "      <th>mileage</th>\n",
       "      <th>torque</th>\n",
       "      <th>dumpName</th>\n",
       "    </tr>\n",
       "  </thead>\n",
       "  <tbody>\n",
       "    <tr>\n",
       "      <th>0</th>\n",
       "      <td>0</td>\n",
       "      <td>Audi A3 35 TDI Premium Plus</td>\n",
       "      <td>Audi</td>\n",
       "      <td>A3</td>\n",
       "      <td>2017</td>\n",
       "      <td>4</td>\n",
       "      <td>70000</td>\n",
       "      <td>320.00</td>\n",
       "      <td>143.00</td>\n",
       "      <td>20.38</td>\n",
       "      <td>2600000</td>\n",
       "      <td>Individual</td>\n",
       "      <td>First</td>\n",
       "      <td>5</td>\n",
       "      <td>1968 CC</td>\n",
       "      <td>Automatic</td>\n",
       "      <td>Diesel</td>\n",
       "      <td>20.38 kmpl</td>\n",
       "      <td>320Nm@ 1750-3000rpm</td>\n",
       "      <td>35 TDI Premium Plus</td>\n",
       "    </tr>\n",
       "    <tr>\n",
       "      <th>1</th>\n",
       "      <td>1</td>\n",
       "      <td>Audi A3 40 TFSI Premium</td>\n",
       "      <td>Audi</td>\n",
       "      <td>A3</td>\n",
       "      <td>2017</td>\n",
       "      <td>4</td>\n",
       "      <td>8000</td>\n",
       "      <td>250.00</td>\n",
       "      <td>177.50</td>\n",
       "      <td>16.60</td>\n",
       "      <td>1689999</td>\n",
       "      <td>Dealer</td>\n",
       "      <td>First</td>\n",
       "      <td>5</td>\n",
       "      <td>1798 CC</td>\n",
       "      <td>Automatic</td>\n",
       "      <td>Petrol</td>\n",
       "      <td>16.6 kmpl</td>\n",
       "      <td>250Nm@ 1250-5000rpm</td>\n",
       "      <td>40 TFSI Premium</td>\n",
       "    </tr>\n",
       "    <tr>\n",
       "      <th>2</th>\n",
       "      <td>2</td>\n",
       "      <td>Audi A3 35 TDI Premium Plus</td>\n",
       "      <td>Audi</td>\n",
       "      <td>A3</td>\n",
       "      <td>2018</td>\n",
       "      <td>3</td>\n",
       "      <td>20000</td>\n",
       "      <td>320.00</td>\n",
       "      <td>143.00</td>\n",
       "      <td>20.38</td>\n",
       "      <td>3000000</td>\n",
       "      <td>Individual</td>\n",
       "      <td>First</td>\n",
       "      <td>5</td>\n",
       "      <td>1968 CC</td>\n",
       "      <td>Automatic</td>\n",
       "      <td>Diesel</td>\n",
       "      <td>20.38 kmpl</td>\n",
       "      <td>320Nm@ 1750-3000rpm</td>\n",
       "      <td>35 TDI Premium Plus</td>\n",
       "    </tr>\n",
       "    <tr>\n",
       "      <th>3</th>\n",
       "      <td>3</td>\n",
       "      <td>Audi A4 1.8 TFSI</td>\n",
       "      <td>Audi</td>\n",
       "      <td>A4</td>\n",
       "      <td>2010</td>\n",
       "      <td>11</td>\n",
       "      <td>55000</td>\n",
       "      <td>215.75</td>\n",
       "      <td>163.20</td>\n",
       "      <td>12.30</td>\n",
       "      <td>730000</td>\n",
       "      <td>Individual</td>\n",
       "      <td>Second</td>\n",
       "      <td>5</td>\n",
       "      <td>1781 CC</td>\n",
       "      <td>Automatic</td>\n",
       "      <td>Petrol</td>\n",
       "      <td>12.3 kmpl</td>\n",
       "      <td>22.9@ 1,950-4,700(kgm@ rpm)</td>\n",
       "      <td>1.8 TFSI</td>\n",
       "    </tr>\n",
       "    <tr>\n",
       "      <th>4</th>\n",
       "      <td>4</td>\n",
       "      <td>Audi A4 2.0 TDI 177 Bhp Premium Plus</td>\n",
       "      <td>Audi</td>\n",
       "      <td>A4</td>\n",
       "      <td>2013</td>\n",
       "      <td>8</td>\n",
       "      <td>110000</td>\n",
       "      <td>380.00</td>\n",
       "      <td>174.33</td>\n",
       "      <td>17.11</td>\n",
       "      <td>1200000</td>\n",
       "      <td>Individual</td>\n",
       "      <td>First</td>\n",
       "      <td>5</td>\n",
       "      <td>1968 CC</td>\n",
       "      <td>Automatic</td>\n",
       "      <td>Diesel</td>\n",
       "      <td>17.11 kmpl</td>\n",
       "      <td>380Nm@ 1750-2500rpm</td>\n",
       "      <td>2.0 TDI 177 Bhp Premium Plus</td>\n",
       "    </tr>\n",
       "  </tbody>\n",
       "</table>\n",
       "</div>"
      ],
      "text/plain": [
       "   Unnamed: 0                                  name brand model  year  age  \\\n",
       "0           0           Audi A3 35 TDI Premium Plus  Audi    A3  2017    4   \n",
       "1           1               Audi A3 40 TFSI Premium  Audi    A3  2017    4   \n",
       "2           2           Audi A3 35 TDI Premium Plus  Audi    A3  2018    3   \n",
       "3           3                      Audi A4 1.8 TFSI  Audi    A4  2010   11   \n",
       "4           4  Audi A4 2.0 TDI 177 Bhp Premium Plus  Audi    A4  2013    8   \n",
       "\n",
       "   km_driven  torque_Nm  max_power_bhp  mileage_kmpl  selling_price  \\\n",
       "0      70000     320.00         143.00         20.38        2600000   \n",
       "1       8000     250.00         177.50         16.60        1689999   \n",
       "2      20000     320.00         143.00         20.38        3000000   \n",
       "3      55000     215.75         163.20         12.30         730000   \n",
       "4     110000     380.00         174.33         17.11        1200000   \n",
       "\n",
       "  seller_type   owner  seats   engine transmission    fuel     mileage  \\\n",
       "0  Individual   First      5  1968 CC    Automatic  Diesel  20.38 kmpl   \n",
       "1      Dealer   First      5  1798 CC    Automatic  Petrol   16.6 kmpl   \n",
       "2  Individual   First      5  1968 CC    Automatic  Diesel  20.38 kmpl   \n",
       "3  Individual  Second      5  1781 CC    Automatic  Petrol   12.3 kmpl   \n",
       "4  Individual   First      5  1968 CC    Automatic  Diesel  17.11 kmpl   \n",
       "\n",
       "                        torque                      dumpName  \n",
       "0          320Nm@ 1750-3000rpm           35 TDI Premium Plus  \n",
       "1          250Nm@ 1250-5000rpm               40 TFSI Premium  \n",
       "2          320Nm@ 1750-3000rpm           35 TDI Premium Plus  \n",
       "3  22.9@ 1,950-4,700(kgm@ rpm)                      1.8 TFSI  \n",
       "4          380Nm@ 1750-2500rpm  2.0 TDI 177 Bhp Premium Plus  "
      ]
     },
     "execution_count": 2,
     "metadata": {},
     "output_type": "execute_result"
    }
   ],
   "source": [
    "mlcd.head()"
   ]
  },
  {
   "cell_type": "code",
   "execution_count": 3,
   "metadata": {},
   "outputs": [
    {
     "name": "stdout",
     "output_type": "stream",
     "text": [
      "<class 'pandas.core.frame.DataFrame'>\n",
      "RangeIndex: 7617 entries, 0 to 7616\n",
      "Data columns (total 19 columns):\n",
      " #   Column         Non-Null Count  Dtype  \n",
      "---  ------         --------------  -----  \n",
      " 0   name           7617 non-null   object \n",
      " 1   brand          7617 non-null   object \n",
      " 2   model          7617 non-null   object \n",
      " 3   year           7617 non-null   int64  \n",
      " 4   age            7617 non-null   int64  \n",
      " 5   km_driven      7617 non-null   int64  \n",
      " 6   torque_Nm      7617 non-null   float64\n",
      " 7   max_power_bhp  7617 non-null   float64\n",
      " 8   mileage_kmpl   7617 non-null   float64\n",
      " 9   selling_price  7617 non-null   int64  \n",
      " 10  seller_type    7617 non-null   object \n",
      " 11  owner          7617 non-null   object \n",
      " 12  seats          7617 non-null   int64  \n",
      " 13  engine         7617 non-null   object \n",
      " 14  transmission   7617 non-null   object \n",
      " 15  fuel           7617 non-null   object \n",
      " 16  mileage        7617 non-null   object \n",
      " 17  torque         7617 non-null   object \n",
      " 18  dumpName       7614 non-null   object \n",
      "dtypes: float64(3), int64(5), object(11)\n",
      "memory usage: 1.1+ MB\n"
     ]
    }
   ],
   "source": [
    "mlcd.drop('Unnamed: 0',axis=1, inplace=True)\n",
    "mlcd.info()"
   ]
  },
  {
   "cell_type": "code",
   "execution_count": 4,
   "metadata": {},
   "outputs": [
    {
     "name": "stdout",
     "output_type": "stream",
     "text": [
      "['Audi' 'BMW' 'Chevrolet' 'Datsun' 'Fiat' 'Ford' 'Honda' 'Hyundai' 'Jeep'\n",
      " 'Mahindra' 'Maruti' 'Mercedes-Benz' 'Nissan' 'Renault' 'Skoda' 'Tata'\n",
      " 'Toyota' 'Volkswagen']\n"
     ]
    }
   ],
   "source": [
    "print(mlcd['brand'].unique())"
   ]
  },
  {
   "cell_type": "code",
   "execution_count": 5,
   "metadata": {},
   "outputs": [],
   "source": [
    "mlcd[\"brand_type\"] = np.where(mlcd[\"brand\"].str.contains('BMW|Audi|Jeep|Mercedes-Benz'), 2, 1)"
   ]
  },
  {
   "cell_type": "code",
   "execution_count": 6,
   "metadata": {},
   "outputs": [],
   "source": [
    "mlcd.drop(['name','brand','model','dumpName','year','seats','engine','mileage','torque'], axis=1, inplace=True)"
   ]
  },
  {
   "cell_type": "code",
   "execution_count": 7,
   "metadata": {},
   "outputs": [
    {
     "data": {
      "text/plain": [
       "Index(['age', 'km_driven', 'torque_Nm', 'max_power_bhp', 'mileage_kmpl',\n",
       "       'selling_price', 'seller_type', 'owner', 'transmission', 'fuel',\n",
       "       'brand_type'],\n",
       "      dtype='object')"
      ]
     },
     "execution_count": 7,
     "metadata": {},
     "output_type": "execute_result"
    }
   ],
   "source": [
    "mlcd.columns"
   ]
  },
  {
   "cell_type": "code",
   "execution_count": 8,
   "metadata": {},
   "outputs": [],
   "source": [
    "mlcd= mlcd[['selling_price','age','km_driven','torque_Nm','max_power_bhp','mileage_kmpl',\n",
    "            'brand_type','seller_type','owner','transmission','fuel']]"
   ]
  },
  {
   "cell_type": "code",
   "execution_count": 9,
   "metadata": {},
   "outputs": [],
   "source": [
    "toCategory = ['brand_type']\n",
    "mlcd[toCategory] = mlcd[toCategory].astype('category')"
   ]
  },
  {
   "cell_type": "markdown",
   "metadata": {},
   "source": [
    "### here im getting dummies of column  #getting dummies is aplhabetical\n",
    "#### brand_type had values (1=GenralCars, 2=HighendCars) -> drop_first=True will set dummy variable only for brand_type_2 to avoid dummy variable trap. for brand_type_1 the value will be automatically 0 to avoid dummy trap\n",
    "#### seller_type had values (Dealer,Individual)\n",
    "#### owner had values (First,Second,Third_or_Above)\n",
    "#### transmission had values (Automatic,Manual)\n",
    "#### fuel had values (Diesel,Gas,Petrol)"
   ]
  },
  {
   "cell_type": "code",
   "execution_count": 10,
   "metadata": {},
   "outputs": [],
   "source": [
    "mlcd = pd.get_dummies(mlcd,columns=['brand_type','seller_type','owner','transmission','fuel'],prefix=['brand_type','seller','owner','transmission','fuel'],drop_first=True)"
   ]
  },
  {
   "cell_type": "code",
   "execution_count": 11,
   "metadata": {},
   "outputs": [
    {
     "name": "stdout",
     "output_type": "stream",
     "text": [
      "<class 'pandas.core.frame.DataFrame'>\n",
      "RangeIndex: 7617 entries, 0 to 7616\n",
      "Data columns (total 13 columns):\n",
      " #   Column                Non-Null Count  Dtype  \n",
      "---  ------                --------------  -----  \n",
      " 0   selling_price         7617 non-null   int64  \n",
      " 1   age                   7617 non-null   int64  \n",
      " 2   km_driven             7617 non-null   int64  \n",
      " 3   torque_Nm             7617 non-null   float64\n",
      " 4   max_power_bhp         7617 non-null   float64\n",
      " 5   mileage_kmpl          7617 non-null   float64\n",
      " 6   brand_type_2          7617 non-null   uint8  \n",
      " 7   seller_Individual     7617 non-null   uint8  \n",
      " 8   owner_Second          7617 non-null   uint8  \n",
      " 9   owner_Third_or_Above  7617 non-null   uint8  \n",
      " 10  transmission_Manual   7617 non-null   uint8  \n",
      " 11  fuel_Gas              7617 non-null   uint8  \n",
      " 12  fuel_Petrol           7617 non-null   uint8  \n",
      "dtypes: float64(3), int64(3), uint8(7)\n",
      "memory usage: 409.2 KB\n"
     ]
    }
   ],
   "source": [
    "mlcd.info()"
   ]
  },
  {
   "cell_type": "code",
   "execution_count": 12,
   "metadata": {},
   "outputs": [
    {
     "data": {
      "text/html": [
       "<div>\n",
       "<style scoped>\n",
       "    .dataframe tbody tr th:only-of-type {\n",
       "        vertical-align: middle;\n",
       "    }\n",
       "\n",
       "    .dataframe tbody tr th {\n",
       "        vertical-align: top;\n",
       "    }\n",
       "\n",
       "    .dataframe thead th {\n",
       "        text-align: right;\n",
       "    }\n",
       "</style>\n",
       "<table border=\"1\" class=\"dataframe\">\n",
       "  <thead>\n",
       "    <tr style=\"text-align: right;\">\n",
       "      <th></th>\n",
       "      <th>selling_price</th>\n",
       "      <th>age</th>\n",
       "      <th>km_driven</th>\n",
       "      <th>torque_Nm</th>\n",
       "      <th>max_power_bhp</th>\n",
       "      <th>mileage_kmpl</th>\n",
       "      <th>brand_type_2</th>\n",
       "      <th>seller_Individual</th>\n",
       "      <th>owner_Second</th>\n",
       "      <th>owner_Third_or_Above</th>\n",
       "      <th>transmission_Manual</th>\n",
       "      <th>fuel_Gas</th>\n",
       "      <th>fuel_Petrol</th>\n",
       "    </tr>\n",
       "  </thead>\n",
       "  <tbody>\n",
       "    <tr>\n",
       "      <th>0</th>\n",
       "      <td>2600000</td>\n",
       "      <td>4</td>\n",
       "      <td>70000</td>\n",
       "      <td>320.00</td>\n",
       "      <td>143.00</td>\n",
       "      <td>20.38</td>\n",
       "      <td>1</td>\n",
       "      <td>1</td>\n",
       "      <td>0</td>\n",
       "      <td>0</td>\n",
       "      <td>0</td>\n",
       "      <td>0</td>\n",
       "      <td>0</td>\n",
       "    </tr>\n",
       "    <tr>\n",
       "      <th>1</th>\n",
       "      <td>1689999</td>\n",
       "      <td>4</td>\n",
       "      <td>8000</td>\n",
       "      <td>250.00</td>\n",
       "      <td>177.50</td>\n",
       "      <td>16.60</td>\n",
       "      <td>1</td>\n",
       "      <td>0</td>\n",
       "      <td>0</td>\n",
       "      <td>0</td>\n",
       "      <td>0</td>\n",
       "      <td>0</td>\n",
       "      <td>1</td>\n",
       "    </tr>\n",
       "    <tr>\n",
       "      <th>2</th>\n",
       "      <td>3000000</td>\n",
       "      <td>3</td>\n",
       "      <td>20000</td>\n",
       "      <td>320.00</td>\n",
       "      <td>143.00</td>\n",
       "      <td>20.38</td>\n",
       "      <td>1</td>\n",
       "      <td>1</td>\n",
       "      <td>0</td>\n",
       "      <td>0</td>\n",
       "      <td>0</td>\n",
       "      <td>0</td>\n",
       "      <td>0</td>\n",
       "    </tr>\n",
       "    <tr>\n",
       "      <th>3</th>\n",
       "      <td>730000</td>\n",
       "      <td>11</td>\n",
       "      <td>55000</td>\n",
       "      <td>215.75</td>\n",
       "      <td>163.20</td>\n",
       "      <td>12.30</td>\n",
       "      <td>1</td>\n",
       "      <td>1</td>\n",
       "      <td>1</td>\n",
       "      <td>0</td>\n",
       "      <td>0</td>\n",
       "      <td>0</td>\n",
       "      <td>1</td>\n",
       "    </tr>\n",
       "    <tr>\n",
       "      <th>4</th>\n",
       "      <td>1200000</td>\n",
       "      <td>8</td>\n",
       "      <td>110000</td>\n",
       "      <td>380.00</td>\n",
       "      <td>174.33</td>\n",
       "      <td>17.11</td>\n",
       "      <td>1</td>\n",
       "      <td>1</td>\n",
       "      <td>0</td>\n",
       "      <td>0</td>\n",
       "      <td>0</td>\n",
       "      <td>0</td>\n",
       "      <td>0</td>\n",
       "    </tr>\n",
       "  </tbody>\n",
       "</table>\n",
       "</div>"
      ],
      "text/plain": [
       "   selling_price  age  km_driven  torque_Nm  max_power_bhp  mileage_kmpl  \\\n",
       "0        2600000    4      70000     320.00         143.00         20.38   \n",
       "1        1689999    4       8000     250.00         177.50         16.60   \n",
       "2        3000000    3      20000     320.00         143.00         20.38   \n",
       "3         730000   11      55000     215.75         163.20         12.30   \n",
       "4        1200000    8     110000     380.00         174.33         17.11   \n",
       "\n",
       "   brand_type_2  seller_Individual  owner_Second  owner_Third_or_Above  \\\n",
       "0             1                  1             0                     0   \n",
       "1             1                  0             0                     0   \n",
       "2             1                  1             0                     0   \n",
       "3             1                  1             1                     0   \n",
       "4             1                  1             0                     0   \n",
       "\n",
       "   transmission_Manual  fuel_Gas  fuel_Petrol  \n",
       "0                    0         0            0  \n",
       "1                    0         0            1  \n",
       "2                    0         0            0  \n",
       "3                    0         0            1  \n",
       "4                    0         0            0  "
      ]
     },
     "execution_count": 12,
     "metadata": {},
     "output_type": "execute_result"
    }
   ],
   "source": [
    "mlcd.head()"
   ]
  },
  {
   "cell_type": "code",
   "execution_count": 13,
   "metadata": {},
   "outputs": [
    {
     "data": {
      "text/plain": [
       "Index(['selling_price', 'age', 'km_driven', 'torque_Nm', 'max_power_bhp',\n",
       "       'mileage_kmpl', 'brand_type_2', 'seller_Individual', 'owner_Second',\n",
       "       'owner_Third_or_Above', 'transmission_Manual', 'fuel_Gas',\n",
       "       'fuel_Petrol'],\n",
       "      dtype='object')"
      ]
     },
     "execution_count": 13,
     "metadata": {},
     "output_type": "execute_result"
    }
   ],
   "source": [
    "mlcd.columns"
   ]
  },
  {
   "cell_type": "markdown",
   "metadata": {},
   "source": [
    "### Commenting out whole view of dataframe"
   ]
  },
  {
   "cell_type": "code",
   "execution_count": 14,
   "metadata": {},
   "outputs": [],
   "source": [
    "# pd.set_option(\"display.max_rows\", None, \"display.max_columns\", None)\n",
    "# mlcd"
   ]
  },
  {
   "cell_type": "code",
   "execution_count": 15,
   "metadata": {},
   "outputs": [
    {
     "data": {
      "text/html": [
       "<div>\n",
       "<style scoped>\n",
       "    .dataframe tbody tr th:only-of-type {\n",
       "        vertical-align: middle;\n",
       "    }\n",
       "\n",
       "    .dataframe tbody tr th {\n",
       "        vertical-align: top;\n",
       "    }\n",
       "\n",
       "    .dataframe thead th {\n",
       "        text-align: right;\n",
       "    }\n",
       "</style>\n",
       "<table border=\"1\" class=\"dataframe\">\n",
       "  <thead>\n",
       "    <tr style=\"text-align: right;\">\n",
       "      <th></th>\n",
       "      <th>selling_price</th>\n",
       "      <th>age</th>\n",
       "      <th>km_driven</th>\n",
       "      <th>torque_Nm</th>\n",
       "      <th>max_power_bhp</th>\n",
       "      <th>mileage_kmpl</th>\n",
       "      <th>brand_type_2</th>\n",
       "      <th>seller_Individual</th>\n",
       "      <th>owner_Second</th>\n",
       "      <th>owner_Third_or_Above</th>\n",
       "      <th>transmission_Manual</th>\n",
       "      <th>fuel_Gas</th>\n",
       "      <th>fuel_Petrol</th>\n",
       "    </tr>\n",
       "  </thead>\n",
       "  <tbody>\n",
       "    <tr>\n",
       "      <th>0</th>\n",
       "      <td>2600000</td>\n",
       "      <td>4</td>\n",
       "      <td>70000</td>\n",
       "      <td>320.00</td>\n",
       "      <td>143.00</td>\n",
       "      <td>20.38</td>\n",
       "      <td>1</td>\n",
       "      <td>1</td>\n",
       "      <td>0</td>\n",
       "      <td>0</td>\n",
       "      <td>0</td>\n",
       "      <td>0</td>\n",
       "      <td>0</td>\n",
       "    </tr>\n",
       "    <tr>\n",
       "      <th>1</th>\n",
       "      <td>1689999</td>\n",
       "      <td>4</td>\n",
       "      <td>8000</td>\n",
       "      <td>250.00</td>\n",
       "      <td>177.50</td>\n",
       "      <td>16.60</td>\n",
       "      <td>1</td>\n",
       "      <td>0</td>\n",
       "      <td>0</td>\n",
       "      <td>0</td>\n",
       "      <td>0</td>\n",
       "      <td>0</td>\n",
       "      <td>1</td>\n",
       "    </tr>\n",
       "    <tr>\n",
       "      <th>2</th>\n",
       "      <td>3000000</td>\n",
       "      <td>3</td>\n",
       "      <td>20000</td>\n",
       "      <td>320.00</td>\n",
       "      <td>143.00</td>\n",
       "      <td>20.38</td>\n",
       "      <td>1</td>\n",
       "      <td>1</td>\n",
       "      <td>0</td>\n",
       "      <td>0</td>\n",
       "      <td>0</td>\n",
       "      <td>0</td>\n",
       "      <td>0</td>\n",
       "    </tr>\n",
       "    <tr>\n",
       "      <th>3</th>\n",
       "      <td>730000</td>\n",
       "      <td>11</td>\n",
       "      <td>55000</td>\n",
       "      <td>215.75</td>\n",
       "      <td>163.20</td>\n",
       "      <td>12.30</td>\n",
       "      <td>1</td>\n",
       "      <td>1</td>\n",
       "      <td>1</td>\n",
       "      <td>0</td>\n",
       "      <td>0</td>\n",
       "      <td>0</td>\n",
       "      <td>1</td>\n",
       "    </tr>\n",
       "    <tr>\n",
       "      <th>4</th>\n",
       "      <td>1200000</td>\n",
       "      <td>8</td>\n",
       "      <td>110000</td>\n",
       "      <td>380.00</td>\n",
       "      <td>174.33</td>\n",
       "      <td>17.11</td>\n",
       "      <td>1</td>\n",
       "      <td>1</td>\n",
       "      <td>0</td>\n",
       "      <td>0</td>\n",
       "      <td>0</td>\n",
       "      <td>0</td>\n",
       "      <td>0</td>\n",
       "    </tr>\n",
       "  </tbody>\n",
       "</table>\n",
       "</div>"
      ],
      "text/plain": [
       "   selling_price  age  km_driven  torque_Nm  max_power_bhp  mileage_kmpl  \\\n",
       "0        2600000    4      70000     320.00         143.00         20.38   \n",
       "1        1689999    4       8000     250.00         177.50         16.60   \n",
       "2        3000000    3      20000     320.00         143.00         20.38   \n",
       "3         730000   11      55000     215.75         163.20         12.30   \n",
       "4        1200000    8     110000     380.00         174.33         17.11   \n",
       "\n",
       "   brand_type_2  seller_Individual  owner_Second  owner_Third_or_Above  \\\n",
       "0             1                  1             0                     0   \n",
       "1             1                  0             0                     0   \n",
       "2             1                  1             0                     0   \n",
       "3             1                  1             1                     0   \n",
       "4             1                  1             0                     0   \n",
       "\n",
       "   transmission_Manual  fuel_Gas  fuel_Petrol  \n",
       "0                    0         0            0  \n",
       "1                    0         0            1  \n",
       "2                    0         0            0  \n",
       "3                    0         0            1  \n",
       "4                    0         0            0  "
      ]
     },
     "execution_count": 15,
     "metadata": {},
     "output_type": "execute_result"
    }
   ],
   "source": [
    "mlcd.head()"
   ]
  },
  {
   "cell_type": "code",
   "execution_count": 16,
   "metadata": {},
   "outputs": [
    {
     "name": "stdout",
     "output_type": "stream",
     "text": [
      "<class 'pandas.core.frame.DataFrame'>\n",
      "RangeIndex: 7617 entries, 0 to 7616\n",
      "Data columns (total 13 columns):\n",
      " #   Column                Non-Null Count  Dtype  \n",
      "---  ------                --------------  -----  \n",
      " 0   selling_price         7617 non-null   int64  \n",
      " 1   age                   7617 non-null   int64  \n",
      " 2   km_driven             7617 non-null   int64  \n",
      " 3   torque_Nm             7617 non-null   float64\n",
      " 4   max_power_bhp         7617 non-null   float64\n",
      " 5   mileage_kmpl          7617 non-null   float64\n",
      " 6   brand_type_2          7617 non-null   uint8  \n",
      " 7   seller_Individual     7617 non-null   uint8  \n",
      " 8   owner_Second          7617 non-null   uint8  \n",
      " 9   owner_Third_or_Above  7617 non-null   uint8  \n",
      " 10  transmission_Manual   7617 non-null   uint8  \n",
      " 11  fuel_Gas              7617 non-null   uint8  \n",
      " 12  fuel_Petrol           7617 non-null   uint8  \n",
      "dtypes: float64(3), int64(3), uint8(7)\n",
      "memory usage: 409.2 KB\n"
     ]
    }
   ],
   "source": [
    "mlcd.info()"
   ]
  },
  {
   "cell_type": "code",
   "execution_count": 17,
   "metadata": {},
   "outputs": [],
   "source": [
    "mlcd.to_csv('MachineLearningCarData.csv')"
   ]
  },
  {
   "cell_type": "code",
   "execution_count": 18,
   "metadata": {},
   "outputs": [
    {
     "data": {
      "text/html": [
       "<div>\n",
       "<style scoped>\n",
       "    .dataframe tbody tr th:only-of-type {\n",
       "        vertical-align: middle;\n",
       "    }\n",
       "\n",
       "    .dataframe tbody tr th {\n",
       "        vertical-align: top;\n",
       "    }\n",
       "\n",
       "    .dataframe thead th {\n",
       "        text-align: right;\n",
       "    }\n",
       "</style>\n",
       "<table border=\"1\" class=\"dataframe\">\n",
       "  <thead>\n",
       "    <tr style=\"text-align: right;\">\n",
       "      <th></th>\n",
       "      <th>selling_price</th>\n",
       "      <th>age</th>\n",
       "      <th>km_driven</th>\n",
       "      <th>torque_Nm</th>\n",
       "      <th>max_power_bhp</th>\n",
       "      <th>mileage_kmpl</th>\n",
       "      <th>brand_type_2</th>\n",
       "      <th>seller_Individual</th>\n",
       "      <th>owner_Second</th>\n",
       "      <th>owner_Third_or_Above</th>\n",
       "      <th>transmission_Manual</th>\n",
       "      <th>fuel_Gas</th>\n",
       "      <th>fuel_Petrol</th>\n",
       "    </tr>\n",
       "  </thead>\n",
       "  <tbody>\n",
       "    <tr>\n",
       "      <th>selling_price</th>\n",
       "      <td>1.00</td>\n",
       "      <td>-0.41</td>\n",
       "      <td>-0.19</td>\n",
       "      <td>0.43</td>\n",
       "      <td>0.69</td>\n",
       "      <td>-0.12</td>\n",
       "      <td>0.72</td>\n",
       "      <td>-0.33</td>\n",
       "      <td>-0.16</td>\n",
       "      <td>-0.14</td>\n",
       "      <td>-0.49</td>\n",
       "      <td>-0.05</td>\n",
       "      <td>-0.22</td>\n",
       "    </tr>\n",
       "    <tr>\n",
       "      <th>age</th>\n",
       "      <td>-0.41</td>\n",
       "      <td>1.00</td>\n",
       "      <td>0.41</td>\n",
       "      <td>-0.06</td>\n",
       "      <td>-0.19</td>\n",
       "      <td>-0.35</td>\n",
       "      <td>-0.11</td>\n",
       "      <td>0.22</td>\n",
       "      <td>0.31</td>\n",
       "      <td>0.34</td>\n",
       "      <td>0.21</td>\n",
       "      <td>0.01</td>\n",
       "      <td>0.03</td>\n",
       "    </tr>\n",
       "    <tr>\n",
       "      <th>km_driven</th>\n",
       "      <td>-0.19</td>\n",
       "      <td>0.41</td>\n",
       "      <td>1.00</td>\n",
       "      <td>0.12</td>\n",
       "      <td>0.02</td>\n",
       "      <td>-0.19</td>\n",
       "      <td>-0.10</td>\n",
       "      <td>0.18</td>\n",
       "      <td>0.20</td>\n",
       "      <td>0.17</td>\n",
       "      <td>0.16</td>\n",
       "      <td>0.01</td>\n",
       "      <td>-0.29</td>\n",
       "    </tr>\n",
       "    <tr>\n",
       "      <th>torque_Nm</th>\n",
       "      <td>0.43</td>\n",
       "      <td>-0.06</td>\n",
       "      <td>0.12</td>\n",
       "      <td>1.00</td>\n",
       "      <td>0.62</td>\n",
       "      <td>-0.22</td>\n",
       "      <td>0.33</td>\n",
       "      <td>-0.08</td>\n",
       "      <td>-0.02</td>\n",
       "      <td>0.01</td>\n",
       "      <td>-0.20</td>\n",
       "      <td>-0.09</td>\n",
       "      <td>-0.50</td>\n",
       "    </tr>\n",
       "    <tr>\n",
       "      <th>max_power_bhp</th>\n",
       "      <td>0.69</td>\n",
       "      <td>-0.19</td>\n",
       "      <td>0.02</td>\n",
       "      <td>0.62</td>\n",
       "      <td>1.00</td>\n",
       "      <td>-0.39</td>\n",
       "      <td>0.54</td>\n",
       "      <td>-0.22</td>\n",
       "      <td>-0.06</td>\n",
       "      <td>-0.05</td>\n",
       "      <td>-0.43</td>\n",
       "      <td>-0.10</td>\n",
       "      <td>-0.30</td>\n",
       "    </tr>\n",
       "    <tr>\n",
       "      <th>mileage_kmpl</th>\n",
       "      <td>-0.12</td>\n",
       "      <td>-0.35</td>\n",
       "      <td>-0.19</td>\n",
       "      <td>-0.22</td>\n",
       "      <td>-0.39</td>\n",
       "      <td>1.00</td>\n",
       "      <td>-0.13</td>\n",
       "      <td>-0.01</td>\n",
       "      <td>-0.11</td>\n",
       "      <td>-0.13</td>\n",
       "      <td>0.15</td>\n",
       "      <td>0.07</td>\n",
       "      <td>-0.10</td>\n",
       "    </tr>\n",
       "    <tr>\n",
       "      <th>brand_type_2</th>\n",
       "      <td>0.72</td>\n",
       "      <td>-0.11</td>\n",
       "      <td>-0.10</td>\n",
       "      <td>0.33</td>\n",
       "      <td>0.54</td>\n",
       "      <td>-0.13</td>\n",
       "      <td>1.00</td>\n",
       "      <td>-0.22</td>\n",
       "      <td>-0.05</td>\n",
       "      <td>-0.04</td>\n",
       "      <td>-0.43</td>\n",
       "      <td>-0.02</td>\n",
       "      <td>-0.12</td>\n",
       "    </tr>\n",
       "    <tr>\n",
       "      <th>seller_Individual</th>\n",
       "      <td>-0.33</td>\n",
       "      <td>0.22</td>\n",
       "      <td>0.18</td>\n",
       "      <td>-0.08</td>\n",
       "      <td>-0.22</td>\n",
       "      <td>-0.01</td>\n",
       "      <td>-0.22</td>\n",
       "      <td>1.00</td>\n",
       "      <td>0.15</td>\n",
       "      <td>0.13</td>\n",
       "      <td>0.32</td>\n",
       "      <td>0.04</td>\n",
       "      <td>-0.03</td>\n",
       "    </tr>\n",
       "    <tr>\n",
       "      <th>owner_Second</th>\n",
       "      <td>-0.16</td>\n",
       "      <td>0.31</td>\n",
       "      <td>0.20</td>\n",
       "      <td>-0.02</td>\n",
       "      <td>-0.06</td>\n",
       "      <td>-0.11</td>\n",
       "      <td>-0.05</td>\n",
       "      <td>0.15</td>\n",
       "      <td>1.00</td>\n",
       "      <td>-0.18</td>\n",
       "      <td>0.10</td>\n",
       "      <td>0.02</td>\n",
       "      <td>-0.06</td>\n",
       "    </tr>\n",
       "    <tr>\n",
       "      <th>owner_Third_or_Above</th>\n",
       "      <td>-0.14</td>\n",
       "      <td>0.34</td>\n",
       "      <td>0.17</td>\n",
       "      <td>0.01</td>\n",
       "      <td>-0.05</td>\n",
       "      <td>-0.13</td>\n",
       "      <td>-0.04</td>\n",
       "      <td>0.13</td>\n",
       "      <td>-0.18</td>\n",
       "      <td>1.00</td>\n",
       "      <td>0.07</td>\n",
       "      <td>0.01</td>\n",
       "      <td>0.01</td>\n",
       "    </tr>\n",
       "    <tr>\n",
       "      <th>transmission_Manual</th>\n",
       "      <td>-0.49</td>\n",
       "      <td>0.21</td>\n",
       "      <td>0.16</td>\n",
       "      <td>-0.20</td>\n",
       "      <td>-0.43</td>\n",
       "      <td>0.15</td>\n",
       "      <td>-0.43</td>\n",
       "      <td>0.32</td>\n",
       "      <td>0.10</td>\n",
       "      <td>0.07</td>\n",
       "      <td>1.00</td>\n",
       "      <td>0.04</td>\n",
       "      <td>-0.08</td>\n",
       "    </tr>\n",
       "    <tr>\n",
       "      <th>fuel_Gas</th>\n",
       "      <td>-0.05</td>\n",
       "      <td>0.01</td>\n",
       "      <td>0.01</td>\n",
       "      <td>-0.09</td>\n",
       "      <td>-0.10</td>\n",
       "      <td>0.07</td>\n",
       "      <td>-0.02</td>\n",
       "      <td>0.04</td>\n",
       "      <td>0.02</td>\n",
       "      <td>0.01</td>\n",
       "      <td>0.04</td>\n",
       "      <td>1.00</td>\n",
       "      <td>-0.10</td>\n",
       "    </tr>\n",
       "    <tr>\n",
       "      <th>fuel_Petrol</th>\n",
       "      <td>-0.22</td>\n",
       "      <td>0.03</td>\n",
       "      <td>-0.29</td>\n",
       "      <td>-0.50</td>\n",
       "      <td>-0.30</td>\n",
       "      <td>-0.10</td>\n",
       "      <td>-0.12</td>\n",
       "      <td>-0.03</td>\n",
       "      <td>-0.06</td>\n",
       "      <td>0.01</td>\n",
       "      <td>-0.08</td>\n",
       "      <td>-0.10</td>\n",
       "      <td>1.00</td>\n",
       "    </tr>\n",
       "  </tbody>\n",
       "</table>\n",
       "</div>"
      ],
      "text/plain": [
       "                      selling_price   age  km_driven  torque_Nm  \\\n",
       "selling_price                  1.00 -0.41      -0.19       0.43   \n",
       "age                           -0.41  1.00       0.41      -0.06   \n",
       "km_driven                     -0.19  0.41       1.00       0.12   \n",
       "torque_Nm                      0.43 -0.06       0.12       1.00   \n",
       "max_power_bhp                  0.69 -0.19       0.02       0.62   \n",
       "mileage_kmpl                  -0.12 -0.35      -0.19      -0.22   \n",
       "brand_type_2                   0.72 -0.11      -0.10       0.33   \n",
       "seller_Individual             -0.33  0.22       0.18      -0.08   \n",
       "owner_Second                  -0.16  0.31       0.20      -0.02   \n",
       "owner_Third_or_Above          -0.14  0.34       0.17       0.01   \n",
       "transmission_Manual           -0.49  0.21       0.16      -0.20   \n",
       "fuel_Gas                      -0.05  0.01       0.01      -0.09   \n",
       "fuel_Petrol                   -0.22  0.03      -0.29      -0.50   \n",
       "\n",
       "                      max_power_bhp  mileage_kmpl  brand_type_2  \\\n",
       "selling_price                  0.69         -0.12          0.72   \n",
       "age                           -0.19         -0.35         -0.11   \n",
       "km_driven                      0.02         -0.19         -0.10   \n",
       "torque_Nm                      0.62         -0.22          0.33   \n",
       "max_power_bhp                  1.00         -0.39          0.54   \n",
       "mileage_kmpl                  -0.39          1.00         -0.13   \n",
       "brand_type_2                   0.54         -0.13          1.00   \n",
       "seller_Individual             -0.22         -0.01         -0.22   \n",
       "owner_Second                  -0.06         -0.11         -0.05   \n",
       "owner_Third_or_Above          -0.05         -0.13         -0.04   \n",
       "transmission_Manual           -0.43          0.15         -0.43   \n",
       "fuel_Gas                      -0.10          0.07         -0.02   \n",
       "fuel_Petrol                   -0.30         -0.10         -0.12   \n",
       "\n",
       "                      seller_Individual  owner_Second  owner_Third_or_Above  \\\n",
       "selling_price                     -0.33         -0.16                 -0.14   \n",
       "age                                0.22          0.31                  0.34   \n",
       "km_driven                          0.18          0.20                  0.17   \n",
       "torque_Nm                         -0.08         -0.02                  0.01   \n",
       "max_power_bhp                     -0.22         -0.06                 -0.05   \n",
       "mileage_kmpl                      -0.01         -0.11                 -0.13   \n",
       "brand_type_2                      -0.22         -0.05                 -0.04   \n",
       "seller_Individual                  1.00          0.15                  0.13   \n",
       "owner_Second                       0.15          1.00                 -0.18   \n",
       "owner_Third_or_Above               0.13         -0.18                  1.00   \n",
       "transmission_Manual                0.32          0.10                  0.07   \n",
       "fuel_Gas                           0.04          0.02                  0.01   \n",
       "fuel_Petrol                       -0.03         -0.06                  0.01   \n",
       "\n",
       "                      transmission_Manual  fuel_Gas  fuel_Petrol  \n",
       "selling_price                       -0.49     -0.05        -0.22  \n",
       "age                                  0.21      0.01         0.03  \n",
       "km_driven                            0.16      0.01        -0.29  \n",
       "torque_Nm                           -0.20     -0.09        -0.50  \n",
       "max_power_bhp                       -0.43     -0.10        -0.30  \n",
       "mileage_kmpl                         0.15      0.07        -0.10  \n",
       "brand_type_2                        -0.43     -0.02        -0.12  \n",
       "seller_Individual                    0.32      0.04        -0.03  \n",
       "owner_Second                         0.10      0.02        -0.06  \n",
       "owner_Third_or_Above                 0.07      0.01         0.01  \n",
       "transmission_Manual                  1.00      0.04        -0.08  \n",
       "fuel_Gas                             0.04      1.00        -0.10  \n",
       "fuel_Petrol                         -0.08     -0.10         1.00  "
      ]
     },
     "execution_count": 18,
     "metadata": {},
     "output_type": "execute_result"
    }
   ],
   "source": [
    "mlcd.corr()"
   ]
  },
  {
   "cell_type": "markdown",
   "metadata": {},
   "source": [
    "## all below code is copied, diy tmw"
   ]
  },
  {
   "cell_type": "code",
   "execution_count": 19,
   "metadata": {},
   "outputs": [],
   "source": [
    "# import seaborn as sns\n",
    "# sns.pairplot(mlcd)"
   ]
  },
  {
   "cell_type": "code",
   "execution_count": 20,
   "metadata": {},
   "outputs": [],
   "source": [
    "# import matplotlib.pyplot as plt\n",
    "# corrmat = mlcd.corr()\n",
    "# top_corr_features = corrmat.index\n",
    "# plt.figure(figsize=(30,30))\n",
    "# #plot heat map\n",
    "# g=sns.heatmap(mlcd[top_corr_features].corr(),annot=True,cmap=\"RdYlGn\")"
   ]
  },
  {
   "cell_type": "code",
   "execution_count": 21,
   "metadata": {},
   "outputs": [],
   "source": [
    "X=mlcd.iloc[:,1:]\n",
    "y=mlcd.iloc[:,0]"
   ]
  },
  {
   "cell_type": "code",
   "execution_count": 22,
   "metadata": {},
   "outputs": [
    {
     "data": {
      "text/html": [
       "<div>\n",
       "<style scoped>\n",
       "    .dataframe tbody tr th:only-of-type {\n",
       "        vertical-align: middle;\n",
       "    }\n",
       "\n",
       "    .dataframe tbody tr th {\n",
       "        vertical-align: top;\n",
       "    }\n",
       "\n",
       "    .dataframe thead th {\n",
       "        text-align: right;\n",
       "    }\n",
       "</style>\n",
       "<table border=\"1\" class=\"dataframe\">\n",
       "  <thead>\n",
       "    <tr style=\"text-align: right;\">\n",
       "      <th></th>\n",
       "      <th>age</th>\n",
       "      <th>km_driven</th>\n",
       "      <th>torque_Nm</th>\n",
       "      <th>max_power_bhp</th>\n",
       "      <th>mileage_kmpl</th>\n",
       "      <th>brand_type_2</th>\n",
       "      <th>seller_Individual</th>\n",
       "      <th>owner_Second</th>\n",
       "      <th>owner_Third_or_Above</th>\n",
       "      <th>transmission_Manual</th>\n",
       "      <th>fuel_Gas</th>\n",
       "      <th>fuel_Petrol</th>\n",
       "    </tr>\n",
       "  </thead>\n",
       "  <tbody>\n",
       "    <tr>\n",
       "      <th>0</th>\n",
       "      <td>4</td>\n",
       "      <td>70000</td>\n",
       "      <td>320.00</td>\n",
       "      <td>143.00</td>\n",
       "      <td>20.38</td>\n",
       "      <td>1</td>\n",
       "      <td>1</td>\n",
       "      <td>0</td>\n",
       "      <td>0</td>\n",
       "      <td>0</td>\n",
       "      <td>0</td>\n",
       "      <td>0</td>\n",
       "    </tr>\n",
       "    <tr>\n",
       "      <th>1</th>\n",
       "      <td>4</td>\n",
       "      <td>8000</td>\n",
       "      <td>250.00</td>\n",
       "      <td>177.50</td>\n",
       "      <td>16.60</td>\n",
       "      <td>1</td>\n",
       "      <td>0</td>\n",
       "      <td>0</td>\n",
       "      <td>0</td>\n",
       "      <td>0</td>\n",
       "      <td>0</td>\n",
       "      <td>1</td>\n",
       "    </tr>\n",
       "    <tr>\n",
       "      <th>2</th>\n",
       "      <td>3</td>\n",
       "      <td>20000</td>\n",
       "      <td>320.00</td>\n",
       "      <td>143.00</td>\n",
       "      <td>20.38</td>\n",
       "      <td>1</td>\n",
       "      <td>1</td>\n",
       "      <td>0</td>\n",
       "      <td>0</td>\n",
       "      <td>0</td>\n",
       "      <td>0</td>\n",
       "      <td>0</td>\n",
       "    </tr>\n",
       "    <tr>\n",
       "      <th>3</th>\n",
       "      <td>11</td>\n",
       "      <td>55000</td>\n",
       "      <td>215.75</td>\n",
       "      <td>163.20</td>\n",
       "      <td>12.30</td>\n",
       "      <td>1</td>\n",
       "      <td>1</td>\n",
       "      <td>1</td>\n",
       "      <td>0</td>\n",
       "      <td>0</td>\n",
       "      <td>0</td>\n",
       "      <td>1</td>\n",
       "    </tr>\n",
       "    <tr>\n",
       "      <th>4</th>\n",
       "      <td>8</td>\n",
       "      <td>110000</td>\n",
       "      <td>380.00</td>\n",
       "      <td>174.33</td>\n",
       "      <td>17.11</td>\n",
       "      <td>1</td>\n",
       "      <td>1</td>\n",
       "      <td>0</td>\n",
       "      <td>0</td>\n",
       "      <td>0</td>\n",
       "      <td>0</td>\n",
       "      <td>0</td>\n",
       "    </tr>\n",
       "  </tbody>\n",
       "</table>\n",
       "</div>"
      ],
      "text/plain": [
       "   age  km_driven  torque_Nm  max_power_bhp  mileage_kmpl  brand_type_2  \\\n",
       "0    4      70000     320.00         143.00         20.38             1   \n",
       "1    4       8000     250.00         177.50         16.60             1   \n",
       "2    3      20000     320.00         143.00         20.38             1   \n",
       "3   11      55000     215.75         163.20         12.30             1   \n",
       "4    8     110000     380.00         174.33         17.11             1   \n",
       "\n",
       "   seller_Individual  owner_Second  owner_Third_or_Above  transmission_Manual  \\\n",
       "0                  1             0                     0                    0   \n",
       "1                  0             0                     0                    0   \n",
       "2                  1             0                     0                    0   \n",
       "3                  1             1                     0                    0   \n",
       "4                  1             0                     0                    0   \n",
       "\n",
       "   fuel_Gas  fuel_Petrol  \n",
       "0         0            0  \n",
       "1         0            1  \n",
       "2         0            0  \n",
       "3         0            1  \n",
       "4         0            0  "
      ]
     },
     "execution_count": 22,
     "metadata": {},
     "output_type": "execute_result"
    }
   ],
   "source": [
    "X.head()"
   ]
  },
  {
   "cell_type": "code",
   "execution_count": 23,
   "metadata": {},
   "outputs": [
    {
     "data": {
      "text/plain": [
       "0    2600000\n",
       "1    1689999\n",
       "2    3000000\n",
       "3     730000\n",
       "4    1200000\n",
       "Name: selling_price, dtype: int64"
      ]
     },
     "execution_count": 23,
     "metadata": {},
     "output_type": "execute_result"
    }
   ],
   "source": [
    "y.head()"
   ]
  },
  {
   "cell_type": "code",
   "execution_count": 24,
   "metadata": {},
   "outputs": [
    {
     "name": "stdout",
     "output_type": "stream",
     "text": [
      "Index(['age', 'km_driven', 'torque_Nm', 'max_power_bhp', 'mileage_kmpl',\n",
      "       'brand_type_2', 'seller_Individual', 'owner_Second',\n",
      "       'owner_Third_or_Above', 'transmission_Manual', 'fuel_Gas',\n",
      "       'fuel_Petrol'],\n",
      "      dtype='object')\n"
     ]
    }
   ],
   "source": [
    "print(X.columns)"
   ]
  },
  {
   "cell_type": "code",
   "execution_count": null,
   "metadata": {},
   "outputs": [],
   "source": [
    "from sklearn.ensemble import ExtraTreesRegressor\n",
    "import matplotlib.pyplot as plt\n",
    "model = ExtraTreesRegressor()\n",
    "model.fit(X,y)"
   ]
  },
  {
   "cell_type": "code",
   "execution_count": null,
   "metadata": {},
   "outputs": [],
   "source": [
    "print(model.feature_importances_)"
   ]
  },
  {
   "cell_type": "code",
   "execution_count": null,
   "metadata": {},
   "outputs": [],
   "source": [
    "#plot graph of feature importances for better visualization\n",
    "feat_importances = pd.Series(model.feature_importances_, index=X.columns)\n",
    "feat_importances.nlargest(18).plot(kind='barh')\n",
    "plt.show()"
   ]
  },
  {
   "cell_type": "code",
   "execution_count": null,
   "metadata": {},
   "outputs": [],
   "source": [
    "from sklearn.model_selection import train_test_split\n",
    "X_train, X_test, y_train, y_test = train_test_split(X, y, test_size=0.2, random_state=66, stratify=mlcd['brand_type_2'])"
   ]
  },
  {
   "cell_type": "code",
   "execution_count": null,
   "metadata": {},
   "outputs": [],
   "source": [
    "X_train.columns"
   ]
  },
  {
   "cell_type": "code",
   "execution_count": null,
   "metadata": {},
   "outputs": [],
   "source": [
    "# y_train.head()"
   ]
  },
  {
   "cell_type": "code",
   "execution_count": null,
   "metadata": {},
   "outputs": [],
   "source": [
    "# y_test.head()"
   ]
  },
  {
   "cell_type": "code",
   "execution_count": null,
   "metadata": {},
   "outputs": [],
   "source": [
    "# X_train[['age','brand_type_2','max_power_bhp','fuel_Petrol','transmission_Manual']].value_counts()"
   ]
  },
  {
   "cell_type": "code",
   "execution_count": null,
   "metadata": {},
   "outputs": [],
   "source": [
    "# X_test[['age','brand_type_2','max_power_bhp','fuel_Petrol','transmission_Manual']].value_counts()"
   ]
  },
  {
   "cell_type": "code",
   "execution_count": null,
   "metadata": {},
   "outputs": [],
   "source": [
    "X_train['brand_type_2'].value_counts()"
   ]
  },
  {
   "cell_type": "code",
   "execution_count": null,
   "metadata": {},
   "outputs": [],
   "source": [
    "X_train.groupby('brand_type_2').age.nunique()"
   ]
  },
  {
   "cell_type": "code",
   "execution_count": null,
   "metadata": {},
   "outputs": [],
   "source": [
    "X_test.groupby('brand_type_2').age.nunique()"
   ]
  },
  {
   "cell_type": "code",
   "execution_count": null,
   "metadata": {},
   "outputs": [],
   "source": [
    "X_test['brand_type_2'].value_counts()"
   ]
  },
  {
   "cell_type": "code",
   "execution_count": null,
   "metadata": {},
   "outputs": [],
   "source": [
    "# from sklearn.preprocessing import StandardScaler"
   ]
  },
  {
   "cell_type": "code",
   "execution_count": null,
   "metadata": {},
   "outputs": [],
   "source": [
    "# scaler = StandardScaler()"
   ]
  },
  {
   "cell_type": "code",
   "execution_count": null,
   "metadata": {},
   "outputs": [],
   "source": [
    "# scaler.fit(X_train)\n",
    "# X_train = scaler.transform(X_train)\n",
    "# X_test = scaler.transform(X_test)"
   ]
  },
  {
   "cell_type": "markdown",
   "metadata": {},
   "source": [
    "## Stratified shuffleSplit"
   ]
  },
  {
   "cell_type": "code",
   "execution_count": null,
   "metadata": {},
   "outputs": [],
   "source": [
    "# from sklearn.model_selection import StratifiedShuffleSplit\n",
    "# split = StratifiedShuffleSplit(n_splits=1, test_size=0.2, random_state=42)\n",
    "\n",
    "# for train_index, test_index in split.split(mlcd, mlcd[['brand_type_2','fuel_Gas','fuel_Petrol','transmission_Manual']]):\n",
    "#     strat_train_set = mlcd.loc[train_index]\n",
    "#     strat_test_set = mlcd.loc[test_index]"
   ]
  },
  {
   "cell_type": "code",
   "execution_count": null,
   "metadata": {},
   "outputs": [],
   "source": [
    "# strat_train_set[['brand_type_2','fuel_Gas','fuel_Petrol','transmission_Manual']].value_counts()"
   ]
  },
  {
   "cell_type": "code",
   "execution_count": null,
   "metadata": {
    "scrolled": true
   },
   "outputs": [],
   "source": [
    "# strat_test_set[['brand_type_2','fuel_Gas','fuel_Petrol','transmission_Manual']].value_counts()"
   ]
  },
  {
   "cell_type": "code",
   "execution_count": null,
   "metadata": {},
   "outputs": [],
   "source": [
    "# strat_test_set['fuel_Petrol'].value_counts()       ##for 1 column"
   ]
  },
  {
   "cell_type": "code",
   "execution_count": null,
   "metadata": {},
   "outputs": [],
   "source": [
    "corr_matrix = mlcd.corr()\n",
    "corr_matrix['selling_price'].sort_values(ascending=False)"
   ]
  },
  {
   "cell_type": "code",
   "execution_count": null,
   "metadata": {},
   "outputs": [],
   "source": [
    "from sklearn.ensemble import RandomForestRegressor"
   ]
  },
  {
   "cell_type": "code",
   "execution_count": null,
   "metadata": {},
   "outputs": [],
   "source": [
    "from sklearn.model_selection import RandomizedSearchCV"
   ]
  },
  {
   "cell_type": "markdown",
   "metadata": {},
   "source": [
    "## first fine tuning"
   ]
  },
  {
   "cell_type": "code",
   "execution_count": null,
   "metadata": {},
   "outputs": [],
   "source": [
    "#Randomized Search CV                           \n",
    "# {'n_estimators': 1000,                     \n",
    "#  'min_samples_split': 2,                    \n",
    "#  'min_samples_leaf': 1,                    \n",
    "#  'max_features': 'sqrt',                     \n",
    "#  'max_depth': 25}\n",
    "# Model Performance                      \n",
    "# Average Error: 61688.8913 Rupees.                   \n",
    "# Accuracy = 85.31%  \n",
    "\n",
    "# after stratifying\n",
    "# Model Performance\n",
    "# Average Error: 67447.0836 Rupees.\n",
    "# Accuracy = 83.83%.\n",
    "\n",
    "# #after standard scaling\n",
    "# Model Performance\n",
    "# Average Error: 66046.1776 Rupees.\n",
    "# Accuracy = 84.62%.          \n",
    "# Model Performance    for brand_type_2\n",
    "# Average Error: 66112.9543 Rupees.\n",
    "# Accuracy = 85.15%\n",
    "\n",
    "# Average Error: 65731.7270 Rupees.\n",
    "# Accuracy = 84.79%.            with all dummies\n",
    "\n",
    "\n",
    "# Number of trees in random forest\n",
    "n_estimators = [int(x) for x in np.linspace(start = 800, stop = 1350, num = 12)]\n",
    "# Number of features to consider at every split\n",
    "max_features = ['sqrt']\n",
    "# Maximum number of levels in tree\n",
    "max_depth = [int(x) for x in np.linspace(20, 30, num = 6)]\n",
    "# max_depth.append(None)\n",
    "# Minimum number of samples required to split a node\n",
    "min_samples_split = [2,3,4,5]\n",
    "# Minimum number of samples required at each leaf node\n",
    "min_samples_leaf = [1,2,3,4]\n"
   ]
  },
  {
   "cell_type": "markdown",
   "metadata": {},
   "source": [
    "### second fine tuning"
   ]
  },
  {
   "cell_type": "code",
   "execution_count": null,
   "metadata": {},
   "outputs": [],
   "source": [
    "# #Randomized Search CV finetuning the params\n",
    "\n",
    "# # Number of trees in random forest\n",
    "# n_estimators = [int(x) for x in np.linspace(start = 500, stop = 1600, num = 12)]\n",
    "# # Number of features to consider at every split\n",
    "# max_features = ['auto', 'sqrt']\n",
    "# # Maximum number of levels in tree\n",
    "# max_depth = [int(x) for x in np.linspace(20, 30, num = 10)]\n",
    "# # max_depth.append(None)\n",
    "# # Minimum number of samples required to split a node\n",
    "# min_samples_split = [2, 3, 4, 5, 15, 100]\n",
    "# # Minimum number of samples required at each leaf node\n",
    "# min_samples_leaf = [1, 2, 3, 4]\n"
   ]
  },
  {
   "cell_type": "code",
   "execution_count": null,
   "metadata": {},
   "outputs": [],
   "source": [
    "# Create the random grid\n",
    "random_grid = {'n_estimators': n_estimators,\n",
    "               'max_features': max_features,\n",
    "               'max_depth': max_depth,\n",
    "               'min_samples_split': min_samples_split,\n",
    "               'min_samples_leaf': min_samples_leaf}\n",
    "\n",
    "print(random_grid)"
   ]
  },
  {
   "cell_type": "code",
   "execution_count": null,
   "metadata": {},
   "outputs": [],
   "source": [
    "# Use the random grid to search for best hyperparameters\n",
    "# First create the base model to tune\n",
    "rf = RandomForestRegressor()"
   ]
  },
  {
   "cell_type": "code",
   "execution_count": null,
   "metadata": {},
   "outputs": [],
   "source": [
    "# Random search of parameters, using 3 fold cross validation, \n",
    "# search across 100 different combinations\n",
    "rf_random = RandomizedSearchCV(estimator = rf, param_distributions = random_grid,scoring='neg_mean_squared_error', n_iter = 20, cv = 7, verbose=2, random_state=66, n_jobs = 1)"
   ]
  },
  {
   "cell_type": "markdown",
   "metadata": {},
   "source": [
    "### random grid"
   ]
  },
  {
   "cell_type": "code",
   "execution_count": null,
   "metadata": {},
   "outputs": [],
   "source": [
    "# from sklearn.model_selection import GridSearchCV\n",
    "# # Create the parameter grid based on the results of random search \n",
    "# param_grid = {\n",
    "#     'bootstrap': [True],\n",
    "#     'max_depth': [80, 90, 100, 110],\n",
    "#     'max_features': [2, 3],\n",
    "#     'min_samples_leaf': [3, 4, 5],\n",
    "#     'min_samples_split': [8, 10, 12],\n",
    "#     'n_estimators': [100, 200, 300, 1000]\n",
    "# }\n",
    "# # Create a based model\n",
    "# rf = RandomForestRegressor()\n",
    "# # Instantiate the grid search model\n",
    "# grid_search = GridSearchCV(estimator = rf, param_grid = param_grid, \n",
    "#                           cv = 3, n_jobs = -1, verbose = 2)\n",
    "\n",
    "\n",
    "# {'bootstrap': True,\n",
    "#  'max_depth': 80,\n",
    "#  'max_features': 3,\n",
    "#  'min_samples_leaf': 3,\n",
    "#  'min_samples_split': 8,\n",
    "#  'n_estimators': 200}\n",
    "# Model Performance\n",
    "# Average Error: 70834.3204 Rupees.\n",
    "# Accuracy = 83.16%."
   ]
  },
  {
   "cell_type": "code",
   "execution_count": null,
   "metadata": {},
   "outputs": [],
   "source": [
    "rf_random.fit(X_train,y_train)"
   ]
  },
  {
   "cell_type": "code",
   "execution_count": null,
   "metadata": {},
   "outputs": [],
   "source": [
    "rf_random.best_params_"
   ]
  },
  {
   "cell_type": "code",
   "execution_count": null,
   "metadata": {},
   "outputs": [],
   "source": [
    "rf_random.best_score_"
   ]
  },
  {
   "cell_type": "code",
   "execution_count": null,
   "metadata": {},
   "outputs": [],
   "source": [
    "predictions=rf_random.predict(X_test)"
   ]
  },
  {
   "cell_type": "code",
   "execution_count": null,
   "metadata": {},
   "outputs": [],
   "source": [
    "def evaluate(model, X_test, y_test):\n",
    "    predictions = model.predict(X_test)\n",
    "    errors = abs(predictions - y_test)\n",
    "    mape = 100 * np.mean(errors / y_test)\n",
    "    accuracy = 100 - mape\n",
    "    print('Model Performance')\n",
    "    print('Average Error: {:0.4f} Rupees.'.format(np.mean(errors)))\n",
    "    print('Accuracy = {:0.2f}%.'.format(accuracy))\n",
    "    \n",
    "    return accuracy\n",
    "best_random = rf_random.best_estimator_\n",
    "random_accuracy = evaluate(best_random, X_test, y_test)\n",
    "\n"
   ]
  },
  {
   "cell_type": "code",
   "execution_count": null,
   "metadata": {},
   "outputs": [],
   "source": [
    "list(predictions)"
   ]
  },
  {
   "cell_type": "code",
   "execution_count": null,
   "metadata": {},
   "outputs": [],
   "source": [
    "y_test"
   ]
  },
  {
   "cell_type": "code",
   "execution_count": null,
   "metadata": {},
   "outputs": [],
   "source": [
    "X_test"
   ]
  },
  {
   "cell_type": "code",
   "execution_count": null,
   "metadata": {
    "scrolled": false
   },
   "outputs": [],
   "source": [
    "list(y_test-predictions)"
   ]
  },
  {
   "cell_type": "code",
   "execution_count": null,
   "metadata": {},
   "outputs": [],
   "source": [
    "import seaborn as sns\n",
    "sns.distplot(y_test-predictions)"
   ]
  },
  {
   "cell_type": "code",
   "execution_count": null,
   "metadata": {},
   "outputs": [],
   "source": [
    "import matplotlib.pyplot as plt\n",
    "plt.scatter(y_test,predictions)"
   ]
  },
  {
   "cell_type": "code",
   "execution_count": null,
   "metadata": {},
   "outputs": [],
   "source": [
    "import pickle\n",
    "# open a file, where you ant to store the data\n",
    "file = open('random_forest_regression_model.pkl', 'wb')\n",
    "\n",
    "# dump information to that file\n",
    "pickle.dump(rf_random, file)"
   ]
  },
  {
   "cell_type": "code",
   "execution_count": null,
   "metadata": {},
   "outputs": [],
   "source": []
  },
  {
   "cell_type": "code",
   "execution_count": null,
   "metadata": {},
   "outputs": [],
   "source": []
  }
 ],
 "metadata": {
  "kernelspec": {
   "display_name": "Python 3",
   "language": "python",
   "name": "python3"
  },
  "language_info": {
   "codemirror_mode": {
    "name": "ipython",
    "version": 3
   },
   "file_extension": ".py",
   "mimetype": "text/x-python",
   "name": "python",
   "nbconvert_exporter": "python",
   "pygments_lexer": "ipython3",
   "version": "3.8.5"
  }
 },
 "nbformat": 4,
 "nbformat_minor": 4
}
